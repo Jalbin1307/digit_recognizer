{
 "cells": [
  {
   "cell_type": "code",
   "execution_count": 1,
   "id": "cdeb6899",
   "metadata": {
    "_cell_guid": "b1076dfc-b9ad-4769-8c92-a6c4dae69d19",
    "_uuid": "8f2839f25d086af736a60e9eeb907d3b93b6e0e5",
    "execution": {
     "iopub.execute_input": "2021-08-19T00:21:06.937873Z",
     "iopub.status.busy": "2021-08-19T00:21:06.936367Z",
     "iopub.status.idle": "2021-08-19T00:21:06.949004Z",
     "shell.execute_reply": "2021-08-19T00:21:06.949406Z"
    },
    "papermill": {
     "duration": 0.029373,
     "end_time": "2021-08-19T00:21:06.949619",
     "exception": false,
     "start_time": "2021-08-19T00:21:06.920246",
     "status": "completed"
    },
    "tags": []
   },
   "outputs": [
    {
     "name": "stdout",
     "output_type": "stream",
     "text": [
      "/kaggle/input/digit-recognizer/sample_submission.csv\n",
      "/kaggle/input/digit-recognizer/train.csv\n",
      "/kaggle/input/digit-recognizer/test.csv\n"
     ]
    }
   ],
   "source": [
    "import numpy as np\n",
    "import pandas as pd\n",
    "\n",
    "import os\n",
    "for dirname, _, filenames in os.walk('/kaggle/input'):\n",
    "    for filename in filenames:\n",
    "        print(os.path.join(dirname, filename))"
   ]
  },
  {
   "cell_type": "code",
   "execution_count": 2,
   "id": "b4653b0c",
   "metadata": {
    "execution": {
     "iopub.execute_input": "2021-08-19T00:21:06.976630Z",
     "iopub.status.busy": "2021-08-19T00:21:06.976133Z",
     "iopub.status.idle": "2021-08-19T00:21:08.982641Z",
     "shell.execute_reply": "2021-08-19T00:21:08.981759Z"
    },
    "papermill": {
     "duration": 2.02135,
     "end_time": "2021-08-19T00:21:08.982796",
     "exception": false,
     "start_time": "2021-08-19T00:21:06.961446",
     "status": "completed"
    },
    "tags": []
   },
   "outputs": [],
   "source": [
    "import torch\n",
    "import torch.nn as nn\n",
    "from torch.autograd import Variable\n",
    "from torch.utils.data import DataLoader\n",
    "from sklearn.model_selection import train_test_split\n",
    "import matplotlib.pyplot as plt"
   ]
  },
  {
   "cell_type": "code",
   "execution_count": 3,
   "id": "6f6f134a",
   "metadata": {
    "execution": {
     "iopub.execute_input": "2021-08-19T00:21:09.060042Z",
     "iopub.status.busy": "2021-08-19T00:21:09.059395Z",
     "iopub.status.idle": "2021-08-19T00:21:09.065461Z",
     "shell.execute_reply": "2021-08-19T00:21:09.064799Z"
    },
    "papermill": {
     "duration": 0.07118,
     "end_time": "2021-08-19T00:21:09.065637",
     "exception": false,
     "start_time": "2021-08-19T00:21:08.994457",
     "status": "completed"
    },
    "tags": []
   },
   "outputs": [
    {
     "name": "stdout",
     "output_type": "stream",
     "text": [
      "cuda\n"
     ]
    }
   ],
   "source": [
    "USE_CUDA = torch.cuda.is_available()\n",
    "device = torch.device(\"cuda\" if USE_CUDA else \"cpu\")\n",
    "print(device)"
   ]
  },
  {
   "cell_type": "code",
   "execution_count": 4,
   "id": "601c310f",
   "metadata": {
    "execution": {
     "iopub.execute_input": "2021-08-19T00:21:09.098451Z",
     "iopub.status.busy": "2021-08-19T00:21:09.097826Z",
     "iopub.status.idle": "2021-08-19T00:21:13.155797Z",
     "shell.execute_reply": "2021-08-19T00:21:13.156200Z"
    },
    "papermill": {
     "duration": 4.077914,
     "end_time": "2021-08-19T00:21:13.156357",
     "exception": false,
     "start_time": "2021-08-19T00:21:09.078443",
     "status": "completed"
    },
    "tags": []
   },
   "outputs": [],
   "source": [
    "# Load data\n",
    "train = pd.read_csv(r\"../input/digit-recognizer/train.csv\", dtype=np.float32)\n",
    "\n",
    "# split data into X(pixels) and Y(numbers from 0 to 9)\n",
    "X = train.loc[:,train.columns != \"label\"].values/255\n",
    "Y = train.label.values\n",
    "\n",
    "\n",
    "# train test split\n",
    "X_train, X_test, Y_train, Y_test = train_test_split(X, Y, \n",
    "                                                    test_size = 0.2,\n",
    "                                                    random_state=42)\n",
    "\n",
    "# create X and Y tensor\n",
    "X_train = torch.from_numpy(X_train)\n",
    "Y_train = torch.from_numpy(Y_train).type(torch.LongTensor)\n",
    "\n",
    "X_test = torch.from_numpy(X_test)\n",
    "Y_test = torch.from_numpy(Y_test).type(torch.LongTensor)\n",
    "\n",
    "# batch size, epoch and iteration\n",
    "batch_size =100\n",
    "epochs = 30\n",
    "\n",
    "# Pytorch train and test sets\n",
    "train = torch.utils.data.TensorDataset(X_train, Y_train)\n",
    "test = torch.utils.data.TensorDataset(X_test, Y_test)\n",
    "\n",
    "# Data loader\n",
    "train_loader = DataLoader(train, batch_size = batch_size, shuffle = False)\n",
    "test_loader = DataLoader(test, batch_size = batch_size, shuffle = False)"
   ]
  },
  {
   "cell_type": "code",
   "execution_count": 5,
   "id": "b9a82a60",
   "metadata": {
    "execution": {
     "iopub.execute_input": "2021-08-19T00:21:13.186698Z",
     "iopub.status.busy": "2021-08-19T00:21:13.186154Z",
     "iopub.status.idle": "2021-08-19T00:21:13.584053Z",
     "shell.execute_reply": "2021-08-19T00:21:13.584450Z"
    },
    "papermill": {
     "duration": 0.416164,
     "end_time": "2021-08-19T00:21:13.584603",
     "exception": false,
     "start_time": "2021-08-19T00:21:13.168439",
     "status": "completed"
    },
    "tags": []
   },
   "outputs": [
    {
     "data": {
      "image/png": "[encoded data removed]",
      "text/plain": [
       "<Figure size 216x216 with 9 Axes>"
      ]
     },
     "metadata": {
      "needs_background": "light"
     },
     "output_type": "display_data"
    }
   ],
   "source": [
    "# sample 9 mnist digits from train dataset\n",
    "\n",
    "index = np.random.randint(0, X_train.shape[0], size=9)\n",
    "images = X_train[index]\n",
    "labels = Y_train[index]\n",
    "\n",
    "plt.figure(figsize=(3,3))\n",
    "for i in range(len(index)):\n",
    "    plt.subplot(3, 3, i + 1)\n",
    "    image = images[i].reshape(28, 28)\n",
    "    plt.imshow(image, cmap='gray')\n",
    "    plt.axis('off')\n",
    "    \n",
    "plt.show()"
   ]
  },
  {
   "cell_type": "code",
   "execution_count": 6,
   "id": "4108c057",
   "metadata": {
    "execution": {
     "iopub.execute_input": "2021-08-19T00:21:13.627670Z",
     "iopub.status.busy": "2021-08-19T00:21:13.626174Z",
     "iopub.status.idle": "2021-08-19T00:21:13.628515Z",
     "shell.execute_reply": "2021-08-19T00:21:13.628940Z"
    },
    "papermill": {
     "duration": 0.031682,
     "end_time": "2021-08-19T00:21:13.629069",
     "exception": false,
     "start_time": "2021-08-19T00:21:13.597387",
     "status": "completed"
    },
    "tags": []
   },
   "outputs": [],
   "source": [
    "class LeNet(nn.Module):\n",
    "    def __init__(self):\n",
    "        super(LeNet, self).__init__()\n",
    "        \n",
    "        # Convolution 1\n",
    "        self.cnn1 = nn.Conv2d(in_channels=1, out_channels=32, kernel_size=5, stride=1, padding=0)\n",
    "        self.relu1 = nn.ReLU()\n",
    "    \n",
    "        # Convolution 2\n",
    "        self.cnn2 = nn.Conv2d(in_channels=32, out_channels=32, kernel_size=5, stride=1, padding=0)\n",
    "        \n",
    "        # BatchNormalization 1 \n",
    "        self.batch1 = nn.BatchNorm2d(32)\n",
    "        self.relu2 = nn.ReLU()\n",
    "        \n",
    "        # Max pool 1\n",
    "        self.maxpool1 = nn.MaxPool2d(kernel_size=2, stride=2)\n",
    "        \n",
    "        # Dropout\n",
    "        self.drop1 = nn.Dropout(p=0.25)\n",
    "        \n",
    "        # Convolution 3\n",
    "        self.cnn3 = nn.Conv2d(in_channels=32, out_channels=64, kernel_size=3, stride=1, padding=0)\n",
    "        \n",
    "        # Convolution 4 - BatchNormalization 2\n",
    "        self.cnn4 = nn.Conv2d(in_channels=64, out_channels=64, kernel_size=3, stride=1, padding=0)\n",
    "        self.batch2 = nn.BatchNorm2d(64)\n",
    "        self.relu3 = nn.ReLU()\n",
    "        \n",
    "        # Max pool 2\n",
    "        self.maxpool2 = nn.MaxPool2d(kernel_size=2, stride=2)\n",
    "        \n",
    "        # Dropout 2\n",
    "        self.drop2 = nn.Dropout(p=0.25)\n",
    "        \n",
    "        \n",
    "        # Fully connected 1\n",
    "        self.fc1 = nn.Linear(64 * 3 * 3, 256)\n",
    "        self.batch3 = nn.BatchNorm1d(256)\n",
    "        self.relu4 = nn.ReLU()\n",
    "        \n",
    "        # Fully connected 2\n",
    "        self.fc2 = nn.Linear(256, 128)\n",
    "        self.batch4 = nn.BatchNorm1d(128)\n",
    "        self.relu5 = nn.ReLU()\n",
    "        \n",
    "        # Fully connected 3\n",
    "        self.fc3 = nn.Linear(128,84)\n",
    "        self.batch5 = nn.BatchNorm1d(84)\n",
    "        self.relu6 = nn.ReLU()\n",
    "        self.drop2 = nn.Dropout(p=0.25)\n",
    "        \n",
    "        # Fully connected 4\n",
    "        self.fc4 = nn.Linear(84, 10)\n",
    "        \n",
    "    \n",
    "    def forward(self, x):\n",
    "        # Convolution 1\n",
    "        out = self.cnn1(x)\n",
    "        out = self.relu1(out)\n",
    "        \n",
    "        # Convolution 2 \n",
    "        out = self.cnn2(out)\n",
    "        \n",
    "        # BatchNormalization 1\n",
    "        out = self.batch1(out)\n",
    "        out = self.relu2(out)\n",
    "        \n",
    "        # Max pool 1\n",
    "        out = self.maxpool1(out)\n",
    "        \n",
    "        # Dropout\n",
    "        out = self.drop1(out)\n",
    "\n",
    "        # Convolution 3\n",
    "        out = self.cnn3(out)\n",
    "        \n",
    "        \n",
    "        \n",
    "        # Convolution 4 - BatchNormalization 2\n",
    "        out = self.cnn4(out)\n",
    "        out = self.batch2(out)\n",
    "        out = self.relu3(out)\n",
    "        \n",
    "        # Max pool 2\n",
    "        out = self.maxpool2(out)\n",
    "        \n",
    "        # Dropout 2\n",
    "        out = self.drop2(out)\n",
    "        \n",
    "        # flatten\n",
    "        out = out.view(out.size(0), -1)\n",
    "\n",
    "        \n",
    "        out = self.fc1(out)\n",
    "        out = self.batch3(out)\n",
    "        out = self.relu4(out)\n",
    "        \n",
    "        out = self.fc2(out)\n",
    "        out = self.batch4(out)\n",
    "        out = self.relu5(out)\n",
    "        \n",
    "        out = self.fc3(out)\n",
    "        out = self.batch5(out)\n",
    "        out = self.relu6(out)\n",
    "        \n",
    "        # Linear function (readout)\n",
    "        out = self.fc4(out)\n",
    "        \n",
    "        \n",
    "\n",
    "        \n",
    "        return out"
   ]
  },
  {
   "cell_type": "code",
   "execution_count": 7,
   "id": "94f283e4",
   "metadata": {
    "execution": {
     "iopub.execute_input": "2021-08-19T00:21:13.662408Z",
     "iopub.status.busy": "2021-08-19T00:21:13.661794Z",
     "iopub.status.idle": "2021-08-19T00:21:17.906550Z",
     "shell.execute_reply": "2021-08-19T00:21:17.906094Z"
    },
    "papermill": {
     "duration": 4.26457,
     "end_time": "2021-08-19T00:21:17.906692",
     "exception": false,
     "start_time": "2021-08-19T00:21:13.642122",
     "status": "completed"
    },
    "tags": []
   },
   "outputs": [],
   "source": [
    "model = LeNet()\n",
    "if torch.cuda.is_available():\n",
    "    model.cuda()\n",
    "# Define cost function and optimizer\n",
    "criterion = nn.CrossEntropyLoss()\n",
    "\n",
    "optimizer = torch.optim.SGD(model.parameters(), lr=0.1)"
   ]
  },
  {
   "cell_type": "code",
   "execution_count": 8,
   "id": "4c679b12",
   "metadata": {
    "execution": {
     "iopub.execute_input": "2021-08-19T00:21:17.943623Z",
     "iopub.status.busy": "2021-08-19T00:21:17.942977Z",
     "iopub.status.idle": "2021-08-19T00:22:57.857497Z",
     "shell.execute_reply": "2021-08-19T00:22:57.858101Z"
    },
    "papermill": {
     "duration": 99.938055,
     "end_time": "2021-08-19T00:22:57.858302",
     "exception": false,
     "start_time": "2021-08-19T00:21:17.920247",
     "status": "completed"
    },
    "tags": []
   },
   "outputs": [
    {
     "name": "stdout",
     "output_type": "stream",
     "text": [
      "Epoch: 1  Loss: 0.02989070676267147  Accuracy: 97.20237731933594 %\n",
      "Epoch: 2  Loss: 0.008631151169538498  Accuracy: 97.9047622680664 %\n",
      "Epoch: 3  Loss: 0.009133796207606792  Accuracy: 98.23809814453125 %\n",
      "Epoch: 4  Loss: 0.007761779241263866  Accuracy: 98.35713958740234 %\n",
      "Epoch: 5  Loss: 0.00819863099604845  Accuracy: 98.36904907226562 %\n",
      "Epoch: 6  Loss: 0.004077814053744078  Accuracy: 98.51190185546875 %\n",
      "Epoch: 7  Loss: 0.005182452034205198  Accuracy: 98.54762268066406 %\n",
      "Epoch: 8  Loss: 0.010982578620314598  Accuracy: 98.58333587646484 %\n",
      "Epoch: 9  Loss: 0.0030440851114690304  Accuracy: 98.53571319580078 %\n",
      "Epoch: 10  Loss: 0.004185467958450317  Accuracy: 98.72618865966797 %\n",
      "Epoch: 11  Loss: 0.0022506648674607277  Accuracy: 98.78571319580078 %\n",
      "Epoch: 12  Loss: 0.0019291798816993833  Accuracy: 98.71428680419922 %\n",
      "Epoch: 13  Loss: 0.00923400279134512  Accuracy: 98.53571319580078 %\n",
      "Epoch: 14  Loss: 0.006520270835608244  Accuracy: 98.86904907226562 %\n",
      "Epoch: 15  Loss: 0.0018867036560550332  Accuracy: 98.86904907226562 %\n",
      "Epoch: 16  Loss: 0.004309478681534529  Accuracy: 98.95237731933594 %\n",
      "Epoch: 17  Loss: 0.0014100009575486183  Accuracy: 98.89286041259766 %\n",
      "Epoch: 18  Loss: 0.0025911636184901  Accuracy: 98.9047622680664 %\n",
      "Epoch: 19  Loss: 0.003043046686798334  Accuracy: 98.95237731933594 %\n",
      "Epoch: 20  Loss: 0.014734831638634205  Accuracy: 98.9047622680664 %\n",
      "Epoch: 21  Loss: 0.005175719037652016  Accuracy: 98.80952453613281 %\n",
      "Epoch: 22  Loss: 0.001169239287264645  Accuracy: 98.91666412353516 %\n",
      "Epoch: 23  Loss: 0.001614689128473401  Accuracy: 99.04762268066406 %\n",
      "Epoch: 24  Loss: 0.0004783867043443024  Accuracy: 98.88095092773438 %\n",
      "Epoch: 25  Loss: 0.000611481664236635  Accuracy: 98.77381134033203 %\n",
      "Epoch: 26  Loss: 0.0018687817500904202  Accuracy: 98.85713958740234 %\n",
      "Epoch: 27  Loss: 0.0020796365570276976  Accuracy: 98.94047546386719 %\n",
      "Epoch: 28  Loss: 0.0023831322323530912  Accuracy: 98.95237731933594 %\n",
      "Epoch: 29  Loss: 0.00040648120921105146  Accuracy: 99.04762268066406 %\n",
      "Epoch: 30  Loss: 0.00039186407229863107  Accuracy: 98.96428680419922 %\n"
     ]
    }
   ],
   "source": [
    "count = 0\n",
    "loss_list = []\n",
    "iteration_list = []\n",
    "accuracy_list = []\n",
    "\n",
    "for epoch in range(epochs):\n",
    "    for i, (X, Y) in enumerate(train_loader):\n",
    "        X, Y = X.to(device), Y.to(device)\n",
    "        train = Variable(X.view(100,1,28,28))\n",
    "        labels = Variable(Y)\n",
    "        \n",
    "        \n",
    "        # Clear gradients\n",
    "        optimizer.zero_grad()\n",
    "        \n",
    "        # Forward propagation\n",
    "        outputs = model(train)\n",
    "        \n",
    "        # Calculate softmax and ross entropy loss\n",
    "        loss = criterion(outputs, labels)\n",
    "        \n",
    "        # Calculating gradients\n",
    "        loss.backward()\n",
    "        \n",
    "        # Update parameters\n",
    "        optimizer.step()\n",
    "        \n",
    "        count += 1\n",
    "        \n",
    "        \n",
    "    # Calculate Accuracy         \n",
    "    correct = 0\n",
    "    total = 0\n",
    "    # Iterate through test dataset\n",
    "    for X, Y in test_loader:\n",
    "        \n",
    "        X, Y = X.to(device), Y.to(device)\n",
    "        test = Variable(X.view(100,1,28,28))\n",
    "        \n",
    "        # Forward propagation\n",
    "        outputs = model(test)\n",
    "                \n",
    "        # Get predictions from the maximum value\n",
    "        predicted = torch.max(outputs.data, 1)[1]\n",
    "            \n",
    "        # Total number of labels\n",
    "        total += len(Y)\n",
    "                \n",
    "        correct += (predicted == Y).cpu().sum()\n",
    "            \n",
    "    accuracy = 100 * correct / float(total)\n",
    "            \n",
    "    # Print Loss\n",
    "    print('Epoch: {}  Loss: {}  Accuracy: {} %'.format(epoch+1, loss.data, accuracy))"
   ]
  },
  {
   "cell_type": "code",
   "execution_count": 9,
   "id": "18842c28",
   "metadata": {
    "execution": {
     "iopub.execute_input": "2021-08-19T00:22:57.904805Z",
     "iopub.status.busy": "2021-08-19T00:22:57.904280Z",
     "iopub.status.idle": "2021-08-19T00:22:57.964124Z",
     "shell.execute_reply": "2021-08-19T00:22:57.963495Z"
    },
    "papermill": {
     "duration": 0.083966,
     "end_time": "2021-08-19T00:22:57.964249",
     "exception": false,
     "start_time": "2021-08-19T00:22:57.880283",
     "status": "completed"
    },
    "tags": []
   },
   "outputs": [],
   "source": [
    "import seaborn as sns\n",
    "from sklearn.metrics import confusion_matrix"
   ]
  },
  {
   "cell_type": "code",
   "execution_count": 10,
   "id": "ab22f46e",
   "metadata": {
    "execution": {
     "iopub.execute_input": "2021-08-19T00:22:58.014216Z",
     "iopub.status.busy": "2021-08-19T00:22:58.013424Z",
     "iopub.status.idle": "2021-08-19T00:22:58.330408Z",
     "shell.execute_reply": "2021-08-19T00:22:58.329837Z"
    },
    "papermill": {
     "duration": 0.345581,
     "end_time": "2021-08-19T00:22:58.330539",
     "exception": false,
     "start_time": "2021-08-19T00:22:57.984958",
     "status": "completed"
    },
    "tags": []
   },
   "outputs": [],
   "source": [
    "# Calculate Accuracy         \n",
    "correct = 0\n",
    "total = 0\n",
    "pred_list = np.empty((1, 1), dtype=int)\n",
    "y_list = np.empty((1, 1), dtype=int)\n",
    "\n",
    "# Iterate through test dataset\n",
    "for X, Y in test_loader:\n",
    "                \n",
    "    test = Variable(X.view(100,1,28,28).to(device))\n",
    "    Y = Y.to(device)\n",
    "    # Forward propagation\n",
    "    outputs = model(test.to(device))\n",
    "                \n",
    "    # Get predictions from the maximum value\n",
    "    predicted = torch.max(outputs.data, 1)[1]\n",
    "    \n",
    "    # Add pred and y value with ndarray\n",
    "    predicted = predicted.to('cpu')\n",
    "    predicted = predicted.numpy()\n",
    "    pred_list = np.append(pred_list, predicted)\n",
    "    \n",
    "    Y = Y.to('cpu')\n",
    "    Y = Y.numpy()\n",
    "    y_list = np.append(y_list, Y)\n",
    "    \n",
    "    \n",
    "pred_list = pred_list[1:]    \n",
    "y_list = y_list[1:]"
   ]
  },
  {
   "cell_type": "code",
   "execution_count": 11,
   "id": "4c914367",
   "metadata": {
    "execution": {
     "iopub.execute_input": "2021-08-19T00:22:58.400006Z",
     "iopub.status.busy": "2021-08-19T00:22:58.399121Z",
     "iopub.status.idle": "2021-08-19T00:22:58.955711Z",
     "shell.execute_reply": "2021-08-19T00:22:58.955276Z"
    },
    "papermill": {
     "duration": 0.604062,
     "end_time": "2021-08-19T00:22:58.955840",
     "exception": false,
     "start_time": "2021-08-19T00:22:58.351778",
     "status": "completed"
    },
    "tags": []
   },
   "outputs": [
    {
     "data": {
      "image/png": "[encoded data removed]",
      "text/plain": [
       "<Figure size 864x720 with 2 Axes>"
      ]
     },
     "metadata": {
      "needs_background": "light"
     },
     "output_type": "display_data"
    }
   ],
   "source": [
    "plt.subplots(figsize=(12,10))\n",
    "sns.heatmap(confusion_matrix(pred_list, y_list), annot=True,\n",
    "           linewidth=0.5, fmt='.0f', cmap='Blues', linecolor='black')\n",
    "\n",
    "plt.xlabel('Predicted_Y')\n",
    "plt.ylabel('Y')\n",
    "plt.title('Confusion Matrix')\n",
    "plt.show()"
   ]
  },
  {
   "cell_type": "code",
   "execution_count": 12,
   "id": "958abb2e",
   "metadata": {
    "execution": {
     "iopub.execute_input": "2021-08-19T00:22:59.006158Z",
     "iopub.status.busy": "2021-08-19T00:22:59.005343Z",
     "iopub.status.idle": "2021-08-19T00:22:59.019113Z",
     "shell.execute_reply": "2021-08-19T00:22:59.018530Z"
    },
    "papermill": {
     "duration": 0.041393,
     "end_time": "2021-08-19T00:22:59.019263",
     "exception": false,
     "start_time": "2021-08-19T00:22:58.977870",
     "status": "completed"
    },
    "tags": []
   },
   "outputs": [
    {
     "name": "stdout",
     "output_type": "stream",
     "text": [
      "save model state dict keys: \n",
      " odict_keys(['cnn1.weight', 'cnn1.bias', 'cnn2.weight', 'cnn2.bias', 'batch1.weight', 'batch1.bias', 'batch1.running_mean', 'batch1.running_var', 'batch1.num_batches_tracked', 'cnn3.weight', 'cnn3.bias', 'cnn4.weight', 'cnn4.bias', 'batch2.weight', 'batch2.bias', 'batch2.running_mean', 'batch2.running_var', 'batch2.num_batches_tracked', 'fc1.weight', 'fc1.bias', 'batch3.weight', 'batch3.bias', 'batch3.running_mean', 'batch3.running_var', 'batch3.num_batches_tracked', 'fc2.weight', 'fc2.bias', 'batch4.weight', 'batch4.bias', 'batch4.running_mean', 'batch4.running_var', 'batch4.num_batches_tracked', 'fc3.weight', 'fc3.bias', 'batch5.weight', 'batch5.bias', 'batch5.running_mean', 'batch5.running_var', 'batch5.num_batches_tracked', 'fc4.weight', 'fc4.bias'])\n"
     ]
    }
   ],
   "source": [
    "#save model\n",
    "print('save model state dict keys: \\n', model.state_dict().keys())\n",
    "torch.save(model.state_dict(), 'checkpoint.pth')"
   ]
  },
  {
   "cell_type": "code",
   "execution_count": 13,
   "id": "93c7b614",
   "metadata": {
    "execution": {
     "iopub.execute_input": "2021-08-19T00:22:59.068500Z",
     "iopub.status.busy": "2021-08-19T00:22:59.068004Z",
     "iopub.status.idle": "2021-08-19T00:22:59.080307Z",
     "shell.execute_reply": "2021-08-19T00:22:59.080900Z"
    },
    "papermill": {
     "duration": 0.038755,
     "end_time": "2021-08-19T00:22:59.081081",
     "exception": false,
     "start_time": "2021-08-19T00:22:59.042326",
     "status": "completed"
    },
    "tags": []
   },
   "outputs": [
    {
     "name": "stdout",
     "output_type": "stream",
     "text": [
      "load model state dict keys: \n",
      " odict_keys(['cnn1.weight', 'cnn1.bias', 'cnn2.weight', 'cnn2.bias', 'batch1.weight', 'batch1.bias', 'batch1.running_mean', 'batch1.running_var', 'batch1.num_batches_tracked', 'cnn3.weight', 'cnn3.bias', 'cnn4.weight', 'cnn4.bias', 'batch2.weight', 'batch2.bias', 'batch2.running_mean', 'batch2.running_var', 'batch2.num_batches_tracked', 'fc1.weight', 'fc1.bias', 'batch3.weight', 'batch3.bias', 'batch3.running_mean', 'batch3.running_var', 'batch3.num_batches_tracked', 'fc2.weight', 'fc2.bias', 'batch4.weight', 'batch4.bias', 'batch4.running_mean', 'batch4.running_var', 'batch4.num_batches_tracked', 'fc3.weight', 'fc3.bias', 'batch5.weight', 'batch5.bias', 'batch5.running_mean', 'batch5.running_var', 'batch5.num_batches_tracked', 'fc4.weight', 'fc4.bias'])\n"
     ]
    }
   ],
   "source": [
    "# load model\n",
    "state_dict = torch.load('checkpoint.pth')\n",
    "print('load model state dict keys: \\n', model.state_dict().keys())"
   ]
  },
  {
   "cell_type": "code",
   "execution_count": 14,
   "id": "a751a99d",
   "metadata": {
    "execution": {
     "iopub.execute_input": "2021-08-19T00:22:59.132156Z",
     "iopub.status.busy": "2021-08-19T00:22:59.131437Z",
     "iopub.status.idle": "2021-08-19T00:23:01.457527Z",
     "shell.execute_reply": "2021-08-19T00:23:01.456936Z"
    },
    "papermill": {
     "duration": 2.353145,
     "end_time": "2021-08-19T00:23:01.457705",
     "exception": false,
     "start_time": "2021-08-19T00:22:59.104560",
     "status": "completed"
    },
    "tags": []
   },
   "outputs": [
    {
     "name": "stdout",
     "output_type": "stream",
     "text": [
      "torch.Size([28000, 784])\n"
     ]
    }
   ],
   "source": [
    "# load test data\n",
    "new_test = pd.read_csv('../input/digit-recognizer/test.csv').values\n",
    "new_images = torch.from_numpy(new_test).type(torch.FloatTensor)/255\n",
    "print(new_images.shape)\n",
    "new_test_loader = DataLoader(new_images, batch_size=batch_size, shuffle=False)"
   ]
  },
  {
   "cell_type": "code",
   "execution_count": 15,
   "id": "7be9b79c",
   "metadata": {
    "execution": {
     "iopub.execute_input": "2021-08-19T00:23:01.511919Z",
     "iopub.status.busy": "2021-08-19T00:23:01.510896Z",
     "iopub.status.idle": "2021-08-19T00:23:02.304017Z",
     "shell.execute_reply": "2021-08-19T00:23:02.304609Z"
    },
    "papermill": {
     "duration": 0.822932,
     "end_time": "2021-08-19T00:23:02.304813",
     "exception": false,
     "start_time": "2021-08-19T00:23:01.481881",
     "status": "completed"
    },
    "tags": []
   },
   "outputs": [
    {
     "name": "stdout",
     "output_type": "stream",
     "text": [
      "[[2], [0], [9], [9], [3], [7], [0], [3], [0], [3]]\n",
      "28000\n"
     ]
    }
   ],
   "source": [
    "results = []\n",
    "with torch.no_grad():\n",
    "    model.eval()                          \n",
    "        \n",
    "    for images in new_test_loader:\n",
    "        images = Variable(images.view(batch_size,1,28,28))\n",
    "        \n",
    "        if torch.cuda.is_available():\n",
    "            images = images.cuda()\n",
    "        \n",
    "        \n",
    "        outputs = model(images)\n",
    "        \n",
    "        predict = outputs.cpu().data.max(1, keepdim=True)[1]\n",
    "        #predict = torch.max(outputs.data, 1)[1]\n",
    "        results += predict.numpy().tolist()\n",
    "        \n",
    "print(results[:10])\n",
    "print(len(results))"
   ]
  },
  {
   "cell_type": "code",
   "execution_count": 16,
   "id": "3d7cd9d8",
   "metadata": {
    "execution": {
     "iopub.execute_input": "2021-08-19T00:23:02.392183Z",
     "iopub.status.busy": "2021-08-19T00:23:02.389706Z",
     "iopub.status.idle": "2021-08-19T00:23:02.394984Z",
     "shell.execute_reply": "2021-08-19T00:23:02.395406Z"
    },
    "papermill": {
     "duration": 0.066044,
     "end_time": "2021-08-19T00:23:02.395550",
     "exception": false,
     "start_time": "2021-08-19T00:23:02.329506",
     "status": "completed"
    },
    "tags": []
   },
   "outputs": [
    {
     "name": "stdout",
     "output_type": "stream",
     "text": [
      "[2 0 9 9 3 7 0 3 0 3]\n",
      "(28000,)\n"
     ]
    }
   ],
   "source": [
    "results = np.array(results).flatten()\n",
    "print(results[:10])\n",
    "print(results.shape)"
   ]
  },
  {
   "cell_type": "code",
   "execution_count": 17,
   "id": "297c7de4",
   "metadata": {
    "execution": {
     "iopub.execute_input": "2021-08-19T00:23:02.460703Z",
     "iopub.status.busy": "2021-08-19T00:23:02.460000Z",
     "iopub.status.idle": "2021-08-19T00:23:02.511450Z",
     "shell.execute_reply": "2021-08-19T00:23:02.511025Z"
    },
    "papermill": {
     "duration": 0.092052,
     "end_time": "2021-08-19T00:23:02.511587",
     "exception": false,
     "start_time": "2021-08-19T00:23:02.419535",
     "status": "completed"
    },
    "tags": []
   },
   "outputs": [
    {
     "name": "stdout",
     "output_type": "stream",
     "text": [
      "   ImageId  Label\n",
      "0        1      2\n",
      "1        2      0\n",
      "2        3      9\n",
      "3        4      9\n",
      "4        5      3\n",
      "5        6      7\n",
      "6        7      0\n",
      "7        8      3\n",
      "8        9      0\n",
      "9       10      3\n"
     ]
    }
   ],
   "source": [
    "submission = pd.DataFrame({'ImageId': list(range(1, len(results)+1)),\n",
    "                          'Label': results})\n",
    "submission.to_csv('submission.csv',index=False, header=True)\n",
    "print(submission[:10])"
   ]
  }
 ],
 "metadata": {
  "kernelspec": {
   "display_name": "Python 3",
   "language": "python",
   "name": "python3"
  },
  "language_info": {
   "codemirror_mode": {
    "name": "ipython",
    "version": 3
   },
   "file_extension": ".py",
   "mimetype": "text/x-python",
   "name": "python",
   "nbconvert_exporter": "python",
   "pygments_lexer": "ipython3",
   "version": "3.7.10"
  },
  "papermill": {
   "default_parameters": {},
   "duration": 123.621599,
   "end_time": "2021-08-19T00:23:04.129196",
   "environment_variables": {},
   "exception": null,
   "input_path": "__notebook__.ipynb",
   "output_path": "__notebook__.ipynb",
   "parameters": {},
   "start_time": "2021-08-19T00:21:00.507597",
   "version": "2.3.3"
  }
 },
 "nbformat": 4,
 "nbformat_minor": 5
}
